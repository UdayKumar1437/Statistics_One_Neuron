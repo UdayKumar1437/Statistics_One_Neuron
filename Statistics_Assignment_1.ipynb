{
 "cells": [
  {
   "cell_type": "markdown",
   "id": "ca8f6b9f",
   "metadata": {},
   "source": [
    "# 1.What exactly is the difference between descriptive and inferential statistics?"
   ]
  },
  {
   "cell_type": "markdown",
   "id": "3ae40132",
   "metadata": {},
   "source": [
    "Descriptive Statistics consists of organizing and summarizing of data. Basic techniques that are used in Descriptive statistics are Measure of Central Tendency (Mean, Median, Mode) and Measure of Dispersion (Variance, Standard Deviation)\n",
    "\n",
    "Inferential Statistics is able to make some conclusions or inferences from collected data (sample data) using some experiment. These experiment can include Hypothesis testing,Z test, T test etc. These conclusions are drawn for population data."
   ]
  },
  {
   "cell_type": "markdown",
   "id": "a38deb21",
   "metadata": {},
   "source": [
    "# 2.I'm not sure what is the difference between a sample and a population?"
   ]
  },
  {
   "cell_type": "markdown",
   "id": "ef2d1dbe",
   "metadata": {},
   "source": [
    "Population is the entire group of individuals about which we want conclusion. It is generally represented by a uppercase N.\n",
    "\n",
    "Sample consists of some observations drawn from the population. Sample is a subset of Population. It is generally represented by a lowercase n."
   ]
  },
  {
   "cell_type": "markdown",
   "id": "57d0e62c",
   "metadata": {},
   "source": [
    "# 3.What distinguishes descriptive statistics from other types of statistics?"
   ]
  },
  {
   "cell_type": "markdown",
   "id": "e7caaba9",
   "metadata": {},
   "source": [
    "Descriptive Statistics organize and summarize the data whereas Inferential Statistics draws conclusion for population data based on sample data. Descriptive Statistics summarize the data by calculating Mean, Median, Mode, Variance, Standard Deviation.\n",
    "It also helps to visualize the features of data in the form of Histogram, Boxplot, Bar chart etc."
   ]
  },
  {
   "cell_type": "markdown",
   "id": "08da27ec",
   "metadata": {},
   "source": [
    "# 4.What is the difference between quantitative and qualitative data?"
   ]
  },
  {
   "cell_type": "markdown",
   "id": "5e3d560c",
   "metadata": {},
   "source": [
    "Quantitative Data describes to Numerical data. It can be measured numerically( like\n",
    "Addition, Subtraction etc. ). It is of two types Discrete and Continuous.\n",
    "\n",
    "I. Discrete Data are those that contain whole numbers only. For example, Number of children in a class: 2,5,3 , Bank account number: 23213553, 5778535 etc.\n",
    "\n",
    "II. Continuous Data can contain any value. For example, Height(cm): 145, 175.8, 181.5 , Weight(kg): 45.7, 76.4 etc.\n",
    "\n",
    "Qualitative Data describes to Categorical data. These data cannot be measured numerically i.e. this data is mostly used for observation purpose. These data describe some characteristics of a category. Examples are Gender, T-shirt Size, City, etc."
   ]
  },
  {
   "cell_type": "markdown",
   "id": "ae1f2cea",
   "metadata": {},
   "source": [
    "# 5.What is the definition of a percentile?"
   ]
  },
  {
   "cell_type": "markdown",
   "id": "7409e064",
   "metadata": {},
   "source": [
    "The nth percentile is the smallest score that is greater than or equal to a certain percentage of the scores. To rephrase this, it’s the percentage of data that falls at or below a certain observation. This is the definition used in AP statistics. In this example, the 25th percentile is the score that’s greater or equal to 25% of the scores."
   ]
  },
  {
   "cell_type": "code",
   "execution_count": null,
   "id": "a8a7edfc",
   "metadata": {},
   "outputs": [],
   "source": []
  }
 ],
 "metadata": {
  "kernelspec": {
   "display_name": "Python 3",
   "language": "python",
   "name": "python3"
  },
  "language_info": {
   "codemirror_mode": {
    "name": "ipython",
    "version": 3
   },
   "file_extension": ".py",
   "mimetype": "text/x-python",
   "name": "python",
   "nbconvert_exporter": "python",
   "pygments_lexer": "ipython3",
   "version": "3.8.8"
  }
 },
 "nbformat": 4,
 "nbformat_minor": 5
}
