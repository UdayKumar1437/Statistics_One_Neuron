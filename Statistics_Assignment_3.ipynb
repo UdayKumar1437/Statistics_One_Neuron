{
 "cells": [
  {
   "cell_type": "markdown",
   "id": "79a3f610",
   "metadata": {},
   "source": [
    "# 1. Write the Gaussian Distribution empirical formula."
   ]
  },
  {
   "cell_type": "markdown",
   "id": "38b81c1e",
   "metadata": {},
   "source": [
    "Gaussian Distribution empirical formula is known as 68-95-99.7 rule. The Empiricalformula states that 68% of distribution falls within the first standard deviation i.e. (µ±s),95% of distribution falls within the second standard deviation i.e. (µ±2s), and 99.7% of distribution falls within the third standard deviation i.e. (µ±3s)."
   ]
  },
  {
   "cell_type": "markdown",
   "id": "6353a1f4",
   "metadata": {},
   "source": [
    "# 2.What is the Z-score, and why is it important?"
   ]
  },
  {
   "cell_type": "markdown",
   "id": "8f657441",
   "metadata": {},
   "source": [
    "Z-score gives a relationship between value and the mean of group of values.Z-score helps to find how much standard deviation away a value is from mean.\n",
    "\n",
    "Z-score = (Observed Value – Mean ) / Standard Deviation = (x - µ) / s\n",
    "\n",
    "In dataset with multiple features, to bring each feature to a same scale so that our Machine Learning Algorithms preform in better way. This process to bring each feature to same scale is known as Standardization.\n",
    "Z-scores are standardized values that can be used to compare scores in different distribution."
   ]
  },
  {
   "cell_type": "markdown",
   "id": "8982e44a",
   "metadata": {},
   "source": [
    "# 3.What is an outlier, exactly?"
   ]
  },
  {
   "cell_type": "markdown",
   "id": "01378233",
   "metadata": {},
   "source": [
    "Outlier is an extreme value which is very far from mean of the data or extremely low or extremely high from the other data values.\n",
    "\n",
    "According to empirical rule ( 68-95-99.7 rule), any value which lies outside the 99.7% of the distribution is known as outliers."
   ]
  },
  {
   "cell_type": "markdown",
   "id": "8a71bbb2",
   "metadata": {},
   "source": [
    "# 4.What are our options for dealing with outliers in our dataset?"
   ]
  },
  {
   "cell_type": "markdown",
   "id": "813f3c73",
   "metadata": {},
   "source": [
    "I. Using Z-score:-\n",
    "\n",
    "If absolute value of Z-score of any data point is greater than the third standard deviation, then that data point will be outlier.\n",
    "\n",
    "II. Using Interquartile Range (IQR):-\n",
    "\n",
    "In first step, we sort our dataset. Then we will find Q1, Q3 and IQR where Q1 andQ3 are 25 and 75 percentile respectively and IQR = (Q3 – Q1).\n",
    "\n",
    "In next step we will calculate Lowerfence as Q1 – (1.5 * IQR) and Upperfence as Q3 + (1.5 * IQR)\n",
    "\n",
    "Now any data point which is either lower than Lowerfence or greater than Upperfence will be added to our Outlier list.\n",
    "\n",
    "III. Using Box plot:-\n",
    "\n",
    "Using boxplot we can also find outliers which can be seen away from our boxplotin the graph."
   ]
  },
  {
   "cell_type": "markdown",
   "id": "0da8af5b",
   "metadata": {},
   "source": [
    "# 5.Write the sample and population variances equations and explain Bessel Correction."
   ]
  },
  {
   "cell_type": "markdown",
   "id": "4c9dc520",
   "metadata": {},
   "source": [
    "Sample Variance: s2 = ∑(x - x̅)**2 / (n - 1)\n",
    "\n",
    "Population Variance: σ2 = ∑(x - μ)**2/N\n",
    "\n",
    "Bessel Correction:\n",
    "In the above given Sample Variance formula, in denominator we have (n-1) instead of n.This is nothing but Bessel Correction. We did it to make Sample Mean become much closer to Population Mean. So that an accurate Population Mean can be determined from the Sample Mean. If we use n instead of (n-1) then there can be huge possibility that the difference between Sample Mean and Population Mean can be large."
   ]
  },
  {
   "cell_type": "code",
   "execution_count": null,
   "id": "791a1cbc",
   "metadata": {},
   "outputs": [],
   "source": []
  }
 ],
 "metadata": {
  "kernelspec": {
   "display_name": "Python 3",
   "language": "python",
   "name": "python3"
  },
  "language_info": {
   "codemirror_mode": {
    "name": "ipython",
    "version": 3
   },
   "file_extension": ".py",
   "mimetype": "text/x-python",
   "name": "python",
   "nbconvert_exporter": "python",
   "pygments_lexer": "ipython3",
   "version": "3.8.8"
  }
 },
 "nbformat": 4,
 "nbformat_minor": 5
}
