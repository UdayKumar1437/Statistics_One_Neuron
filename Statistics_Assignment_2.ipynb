{
 "cells": [
  {
   "cell_type": "markdown",
   "id": "237ad8a9",
   "metadata": {},
   "source": [
    "# 1.How can we figure out what the interquartile range is?"
   ]
  },
  {
   "cell_type": "markdown",
   "id": "f19d6e26",
   "metadata": {},
   "source": [
    "Interquartile Range(IQR) is the difference between Third Quartile(Q3) and First\n",
    "Quartile(Q1) i.e. IQR = Q3 – Q1\n",
    "\n",
    "Third Quartile(Q3) is 75 percentile i.e. Q3 = (75/100)*(n+1)\n",
    "\n",
    "First Quartile(Q1) is 25 percentile i.e. Q1 = (25/100)*(n+1)\n",
    "\n",
    "Here n is the total number of observation in our dataset."
   ]
  },
  {
   "cell_type": "markdown",
   "id": "93464f94",
   "metadata": {},
   "source": [
    "# 2.What exactly is the value of the 5-number theory?"
   ]
  },
  {
   "cell_type": "markdown",
   "id": "99e58648",
   "metadata": {},
   "source": [
    "The 5-number theory is used to find outliers and it is used for plotting Box Plot. The 5-\n",
    "number theory is shown below:-\n",
    "    \n",
    "I. Minimum – It is the lowest value of the given dataset.\n",
    "\n",
    "II. First Quartile(Q1) – It is the 75 percentile value of the given dataset.\n",
    "\n",
    "III. Median – Calculate the median of the given dataset.\n",
    "\n",
    "IV. Third Quartile(Q3) – It is the 25 percentile value of the given dataset.\n",
    "\n",
    "V. Maximum – It is the highest value of the given dataset."
   ]
  },
  {
   "cell_type": "markdown",
   "id": "219bbe89",
   "metadata": {},
   "source": [
    "# 3.What is the relationship between standard deviation and variance?"
   ]
  },
  {
   "cell_type": "markdown",
   "id": "b551c2c8",
   "metadata": {},
   "source": [
    "Standard Deviation (s) is the square root of the Variance (s2\n",
    ") i.e. standard deviation = √variance"
   ]
  },
  {
   "cell_type": "markdown",
   "id": "c64b5e5c",
   "metadata": {},
   "source": [
    "# 4.What does the difference between variance and standard deviation mean?"
   ]
  },
  {
   "cell_type": "markdown",
   "id": "a4634032",
   "metadata": {},
   "source": [
    "Variance tells us about Dispersion of data that is how much our data is spread. More variance mean more spreading of data. Thus, more data around the centre region of dataset whereas Standard Deviation tells us that how much a given point is far from the mean of the data. So, standard deviation is an observation that we get measured through dispersion within a dataset."
   ]
  },
  {
   "cell_type": "markdown",
   "id": "d229685b",
   "metadata": {},
   "source": [
    "# 5.When is it appropriate to refer to a skewed data distribution?"
   ]
  },
  {
   "cell_type": "markdown",
   "id": "64e00ccf",
   "metadata": {},
   "source": [
    "Whenever we see the bell curve is towards on left side and having a tail on right side, itrefers to Right skewed (Positive skewed) Data. In this case Mean > Median > Mode. Such type of distribution can also refer as Log Normal Distribution. Example of Right skewed distribution are Wealth Distribution, Number of long comments etc."
   ]
  },
  {
   "cell_type": "code",
   "execution_count": null,
   "id": "3cc29fd8",
   "metadata": {},
   "outputs": [],
   "source": []
  }
 ],
 "metadata": {
  "kernelspec": {
   "display_name": "Python 3",
   "language": "python",
   "name": "python3"
  },
  "language_info": {
   "codemirror_mode": {
    "name": "ipython",
    "version": 3
   },
   "file_extension": ".py",
   "mimetype": "text/x-python",
   "name": "python",
   "nbconvert_exporter": "python",
   "pygments_lexer": "ipython3",
   "version": "3.8.8"
  }
 },
 "nbformat": 4,
 "nbformat_minor": 5
}
